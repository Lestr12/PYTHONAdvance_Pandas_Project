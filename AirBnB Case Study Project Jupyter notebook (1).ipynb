{
 "cells": [
  {
   "cell_type": "markdown",
   "metadata": {},
   "source": [
    "# AirBnB NY Locations Data Case Study\n",
    "\n",
    "In this final project, you task will be to take the data provided and find evidance to answer the following questions.\n",
    "\n",
    "1. Which hosts are the busiest and why?\n",
    "2. How many neighborhood groups are available and which shows up the most?\n",
    "3. Are private rooms the most popular in manhattan?\n",
    "4. Which hosts are the busiest and based on their reviews?\n",
    "5. Which neighorhood group has the highest average price?\n",
    "6. Which neighborhood group has the highest total price?\n",
    "7. Which top 5 hosts have the highest total price?\n",
    "8. Who currently has no (zero) availability with a review count of 100 or more?\n",
    "9. What host has the highest total of prices and where are they located?\n",
    "10. When did Danielle from Queens last receive a review?\n",
    "\n",
    "You will be given **4 hours** to complete this assignment. \n",
    "**Be Advised** I will go dark for this intire assignment time period. That said, any questions that you would like to ask about the data, or the project **MUST** be asked before the time starts. Once the time has started, I can no longer give information.\n",
    "\n",
    "This is to similate what you will face when you are out in the wild. \n",
    "\n",
    "Happy Coding!"
   ]
  },
  {
   "cell_type": "code",
   "execution_count": 8,
   "metadata": {},
   "outputs": [],
   "source": [
    "import numpy as np\n",
    "import pandas as pd\n"
   ]
  },
  {
   "cell_type": "code",
   "execution_count": 9,
   "metadata": {},
   "outputs": [
    {
     "name": "stdout",
     "output_type": "stream",
     "text": [
      "     id                                              name  host_id  \\\n",
      "0  2539                Clean & quiet apt home by the park     2787   \n",
      "1  2595                             Skylit Midtown Castle     2845   \n",
      "2  3647               THE VILLAGE OF HARLEM....NEW YORK !     4632   \n",
      "3  3831                   Cozy Entire Floor of Brownstone     4869   \n",
      "4  5022  Entire Apt: Spacious Studio/Loft by central park     7192   \n",
      "\n",
      "     host_name neighbourhood_group neighbourhood  latitude  longitude  \\\n",
      "0         John            Brooklyn    Kensington  40.64749  -73.97237   \n",
      "1     Jennifer           Manhattan       Midtown  40.75362  -73.98377   \n",
      "2    Elisabeth           Manhattan        Harlem  40.80902  -73.94190   \n",
      "3  LisaRoxanne            Brooklyn  Clinton Hill  40.68514  -73.95976   \n",
      "4        Laura           Manhattan   East Harlem  40.79851  -73.94399   \n",
      "\n",
      "         room_type  price  minimum_nights  number_of_reviews last_review  \\\n",
      "0     Private room    149               1                  9  2018-10-19   \n",
      "1  Entire home/apt    225               1                 45  2019-05-21   \n",
      "2     Private room    150               3                  0         NaN   \n",
      "3  Entire home/apt     89               1                270  2019-07-05   \n",
      "4  Entire home/apt     80              10                  9  2018-11-19   \n",
      "\n",
      "   reviews_per_month  calculated_host_listings_count  availability_365  \n",
      "0               0.21                               6               365  \n",
      "1               0.38                               2               355  \n",
      "2                NaN                               1               365  \n",
      "3               4.64                               1               194  \n",
      "4               0.10                               1                 0  \n"
     ]
    }
   ],
   "source": [
    "import pandas as pd\n",
    "\n",
    "# Ensure the file path is correct; adjust if needed\n",
    "file_path = 'AB_NYC_2019 - AB_NYC_2019 (1).csv'\n",
    "\n",
    "# Read the CSV file into a DataFrame\n",
    "air_bnb = pd.read_csv(file_path)\n",
    "\n",
    "# Display the first few rows of the DataFrame\n",
    "print(air_bnb.head())\n"
   ]
  },
  {
   "cell_type": "code",
   "execution_count": 10,
   "metadata": {},
   "outputs": [
    {
     "name": "stdout",
     "output_type": "stream",
     "text": [
      "There are 5 unique neighborhood groups.\n",
      "The neighborhood group that shows up the most is \"Manhattan\" with 21661 listings.\n"
     ]
    }
   ],
   "source": [
    "import pandas as pd\n",
    "\n",
    "# Ensure the file path is correct; adjust if needed\n",
    "file_path = 'AB_NYC_2019 - AB_NYC_2019 (1).csv'\n",
    "\n",
    "# Read the CSV file into a DataFrame\n",
    "air_bnb = pd.read_csv(file_path)\n",
    "\n",
    "# Get the number of unique neighborhood groups\n",
    "neighborhood_groups = air_bnb['neighbourhood_group'].unique()\n",
    "num_neighborhood_groups = len(neighborhood_groups)\n",
    "print(f'There are {num_neighborhood_groups} unique neighborhood groups.')\n",
    "\n",
    "# Find out which neighborhood group shows up the most\n",
    "neighborhood_group_counts = air_bnb['neighbourhood_group'].value_counts()\n",
    "most_common_neighborhood_group = neighborhood_group_counts.idxmax()\n",
    "most_common_neighborhood_group_count = neighborhood_group_counts.max()\n",
    "\n",
    "print(f'The neighborhood group that shows up the most is \"{most_common_neighborhood_group}\" with {most_common_neighborhood_group_count} listings.')\n"
   ]
  },
  {
   "cell_type": "code",
   "execution_count": 11,
   "metadata": {},
   "outputs": [
    {
     "name": "stdout",
     "output_type": "stream",
     "text": [
      "room_type\n",
      "Entire home/apt    13199\n",
      "Private room        7982\n",
      "Shared room          480\n",
      "Name: count, dtype: int64\n",
      "No, the most popular room type in Manhattan is \"Entire home/apt\" with 13199 listings.\n"
     ]
    }
   ],
   "source": [
    "# Are private rooms the most popular in manhattan?\n",
    "import pandas as pd\n",
    "\n",
    "# Ensure the file path is correct; adjust if needed\n",
    "file_path = 'AB_NYC_2019 - AB_NYC_2019 (1).csv'\n",
    "\n",
    "# Read the CSV file into a DataFrame\n",
    "air_bnb = pd.read_csv(file_path)\n",
    "\n",
    "# Filter the DataFrame for listings in Manhattan\n",
    "manhattan_listings = air_bnb[air_bnb['neighbourhood_group'] == 'Manhattan']\n",
    "\n",
    "# Count the occurrences of each room type in Manhattan\n",
    "room_type_counts = manhattan_listings['room_type'].value_counts()\n",
    "\n",
    "# Check if private rooms are the most popular\n",
    "most_popular_room_type = room_type_counts.idxmax()\n",
    "most_popular_room_type_count = room_type_counts.max()\n",
    "\n",
    "print(room_type_counts)\n",
    "if most_popular_room_type == 'Private room':\n",
    "    print(f'Yes, private rooms are the most popular in Manhattan with {most_popular_room_type_count} listings.')\n",
    "else:\n",
    "    print(f'No, the most popular room type in Manhattan is \"{most_popular_room_type}\" with {most_popular_room_type_count} listings.')\n",
    "\n"
   ]
  },
  {
   "cell_type": "code",
   "execution_count": 14,
   "metadata": {},
   "outputs": [
    {
     "name": "stdout",
     "output_type": "stream",
     "text": [
      "         host_id                       host_name  number_of_reviews\n",
      "21304   37312959                            Maya               2273\n",
      "1052      344035  Brooklyn&   Breakfast    -Len-               2205\n",
      "18626   26432133                        Danielle               2017\n",
      "20872   35524316                    Yasu & Akiko               1971\n",
      "21921   40176101                           Brady               1818\n",
      "7362     4734398                              Jj               1798\n",
      "14707   16677326                  Alex And Zeena               1355\n",
      "9201     6885157                           Randy               1346\n",
      "34629  219517861                    Sonder (NYC)               1281\n",
      "17517   23591164                          Angela               1269\n"
     ]
    }
   ],
   "source": [
    "# Which hosts are the busiest and based on their reviews?\n",
    "\n",
    "# Group by host_id and host_name, summing the number_of_reviews\n",
    "host_total_reviews = air_bnb.groupby(['host_id', 'host_name'])['number_of_reviews'].sum().reset_index()\n",
    "\n",
    "# Sort the hosts by the total number of reviews in descending order\n",
    "busiest_hosts_by_total_reviews = host_total_reviews.sort_values(by='number_of_reviews', ascending=False)\n",
    "\n",
    "# Display the top 10 busiest hosts based on total reviews\n",
    "top_10_busiest_hosts_by_total_reviews = busiest_hosts_by_total_reviews.head(10)\n",
    "print(top_10_busiest_hosts_by_total_reviews)\n",
    "\n",
    "\n"
   ]
  },
  {
   "cell_type": "code",
   "execution_count": 15,
   "metadata": {},
   "outputs": [
    {
     "name": "stdout",
     "output_type": "stream",
     "text": [
      "  neighbourhood_group       price\n",
      "0               Bronx   87.496792\n",
      "1            Brooklyn  124.383207\n",
      "2           Manhattan  196.875814\n",
      "3              Queens   99.517649\n",
      "4       Staten Island  114.812332\n",
      "The neighborhood group with the highest average price is \"Manhattan\" with an average price of $196.88.\n"
     ]
    }
   ],
   "source": [
    "#Which neighorhood group has the highest average price?\n",
    "import pandas as pd\n",
    "\n",
    "# Ensure the file path is correct; adjust if needed\n",
    "file_path = 'AB_NYC_2019 - AB_NYC_2019 (1).csv'\n",
    "\n",
    "# Read the CSV file into a DataFrame\n",
    "air_bnb = pd.read_csv(file_path)\n",
    "\n",
    "# Group by neighbourhood_group and calculate the mean price\n",
    "average_prices = air_bnb.groupby('neighbourhood_group')['price'].mean().reset_index()\n",
    "\n",
    "# Find the neighborhood group with the highest average price\n",
    "highest_avg_price_group = average_prices.loc[average_prices['price'].idxmax()]\n",
    "\n",
    "print(average_prices)\n",
    "print(f'The neighborhood group with the highest average price is \"{highest_avg_price_group[\"neighbourhood_group\"]}\" with an average price of ${highest_avg_price_group[\"price\"]:.2f}.')\n"
   ]
  },
  {
   "cell_type": "code",
   "execution_count": 5,
   "metadata": {},
   "outputs": [],
   "source": [
    "# Which neighbor hood group has the highest total price?\n",
    "import pandas as pd\n",
    "\n",
    "# Ensure the file path is correct; adjust if needed\n",
    "file_path = 'AB_NYC_2019 - AB_NYC_2019 (1).csv'\n",
    "\n",
    "# Read the CSV file into a DataFrame\n",
    "air_bnb = pd.read_csv(file_path)\n",
    "\n",
    "# Group by neighbourhood_group and calculate the sum of prices\n",
    "total_prices = air_bnb.groupby('neighbourhood_group')['price'].sum().reset_index()\n",
    "\n",
    "# Find the neighborhood group with the highest total price\n",
    "highest_total_price_group = total_prices.loc[total_prices['price'].idxmax()]\n",
    "\n",
    "print(total_prices)\n",
    "print(f'The neighborhood group with the highest total price is \"{highest_total_price_group[\"neighbourhood_group\"]}\" with a total price of ${highest_total_price_group[\"price\"]:.2f}.')\n"
   ]
  },
  {
   "cell_type": "code",
   "execution_count": 6,
   "metadata": {},
   "outputs": [],
   "source": [
    "#Which top 5 hosts have the highest total price?\n",
    "import pandas as pd\n",
    "\n",
    "# Ensure the file path is correct; adjust if needed\n",
    "file_path = 'AB_NYC_2019 - AB_NYC_2019 (1).csv'\n",
    "\n",
    "# Read the CSV file into a DataFrame\n",
    "air_bnb = pd.read_csv(file_path)\n",
    "\n",
    "# Group by host_id and host_name, summing the prices\n",
    "host_total_prices = air_bnb.groupby(['host_id', 'host_name'])['price'].sum().reset_index()\n",
    "\n",
    "# Sort the hosts by the total price in descending order\n",
    "top_hosts_by_total_price = host_total_prices.sort_values(by='price', ascending=False).head(5)\n",
    "\n",
    "# Display the top 5 hosts with the highest total price\n",
    "print(top_hosts_by_total_price)\n"
   ]
  },
  {
   "cell_type": "code",
   "execution_count": 7,
   "metadata": {},
   "outputs": [],
   "source": [
    "# Who currently has no (zero) availability with a review count of 100 or more?\n",
    "import pandas as pd\n",
    "\n",
    "# Ensure the file path is correct; adjust if needed\n",
    "file_path = 'AB_NYC_2019 - AB_NYC_2019 (1).csv'\n",
    "\n",
    "# Read the CSV file into a DataFrame\n",
    "air_bnb = pd.read_csv(file_path)\n",
    "\n",
    "# Filter for listings with zero availability and 100 or more reviews\n",
    "zero_availability_high_reviews = air_bnb[(air_bnb['availability_365'] == 0) & (air_bnb['number_of_reviews'] >= 100)]\n",
    "\n",
    "# Display the filtered DataFrame\n",
    "print(zero_availability_high_reviews[['host_id', 'host_name', 'availability_365', 'number_of_reviews']])\n",
    "\n"
   ]
  },
  {
   "cell_type": "code",
   "execution_count": 8,
   "metadata": {},
   "outputs": [],
   "source": [
    "# What host has the highest total of prices and where are they located?\n",
    "import pandas as pd\n",
    "\n",
    "# Ensure the file path is correct; adjust if needed\n",
    "file_path = 'AB_NYC_2019 - AB_NYC_2019 (1).csv'\n",
    "\n",
    "# Read the CSV file into a DataFrame\n",
    "air_bnb = pd.read_csv(file_path)\n",
    "\n",
    "# Group by host_id, host_name, and neighbourhood_group, summing the prices\n",
    "host_total_prices = air_bnb.groupby(['host_id', 'host_name', 'neighbourhood_group'])['price'].sum().reset_index()\n",
    "\n",
    "# Find the host with the highest total price\n",
    "highest_total_price_host = host_total_prices.loc[host_total_prices['price'].idxmax()]\n",
    "\n",
    "print(highest_total_price_host)\n",
    "\n"
   ]
  },
  {
   "cell_type": "code",
   "execution_count": 9,
   "metadata": {},
   "outputs": [],
   "source": [
    "# When did Danielle from Queens last receive a review?\n",
    "\n",
    "import pandas as pd\n",
    "\n",
    "# Ensure the file path is correct; adjust if needed\n",
    "file_path = 'AB_NYC_2019 - AB_NYC_2019 (1).csv'\n",
    "\n",
    "# Read the CSV file into a DataFrame\n",
    "air_bnb = pd.read_csv(file_path)\n",
    "\n",
    "# Filter for Danielle from Queens\n",
    "danielle_queens_reviews = air_bnb[(air_bnb['host_name'] == 'Danielle') & (air_bnb['neighbourhood_group'] == 'Queens')]\n",
    "\n",
    "# Find the most recent review date\n",
    "last_review_date = danielle_queens_reviews['last_review'].max()\n",
    "\n",
    "print(f'Danielle from Queens last received a review on: {last_review_date}')\n"
   ]
  },
  {
   "cell_type": "markdown",
   "metadata": {},
   "source": [
    "## Further Questions\n",
    "\n",
    "1. Which host has the most listings?"
   ]
  },
  {
   "cell_type": "code",
   "execution_count": null,
   "metadata": {},
   "outputs": [],
   "source": [
    "import pandas as pd\n",
    "\n",
    "# Ensure the file path is correct; adjust if needed\n",
    "file_path = 'AB_NYC_2019 - AB_NYC_2019 (1).csv'\n",
    "\n",
    "# Read the CSV file into a DataFrame\n",
    "air_bnb = pd.read_csv(file_path)\n",
    "\n",
    "# Group by host_id and host_name, count the number of listings\n",
    "host_listings_counts = air_bnb.groupby(['host_id', 'host_name']).size().reset_index(name='listing_count')\n",
    "\n",
    "# Find the host with the most listings\n",
    "host_with_most_listings = host_listings_counts.loc[host_listings_counts['listing_count'].idxmax()]\n",
    "\n",
    "print(host_with_most_listings)\n"
   ]
  },
  {
   "cell_type": "markdown",
   "metadata": {},
   "source": [
    "2. How many listings have completely open availability?"
   ]
  },
  {
   "cell_type": "code",
   "execution_count": 17,
   "metadata": {},
   "outputs": [
    {
     "name": "stdout",
     "output_type": "stream",
     "text": [
      "There are 1295 listings with complete open availability (availability_365 == 365).\n"
     ]
    }
   ],
   "source": [
    "import pandas as pd\n",
    "\n",
    "# Ensure the file path is correct; adjust if needed\n",
    "file_path = 'AB_NYC_2019 - AB_NYC_2019 (1).csv'\n",
    "\n",
    "# Read the CSV file into a DataFrame\n",
    "air_bnb = pd.read_csv(file_path)\n",
    "\n",
    "# Filter for listings with complete open availability (availability_365 == 365)\n",
    "complete_open_avail_listings = air_bnb[air_bnb['availability_365'] == 365]\n",
    "\n",
    "# Count the number of listings with complete open availability\n",
    "num_complete_open_avail_listings = complete_open_avail_listings.shape[0]\n",
    "\n",
    "print(f'There are {num_complete_open_avail_listings} listings with complete open availability (availability_365 == 365).')\n"
   ]
  },
  {
   "cell_type": "markdown",
   "metadata": {},
   "source": [
    "3. What room_types have the highest review numbers?"
   ]
  },
  {
   "cell_type": "code",
   "execution_count": 18,
   "metadata": {},
   "outputs": [
    {
     "name": "stdout",
     "output_type": "stream",
     "text": [
      "The room type(s) with the highest average number of reviews is/are:\n",
      "room_type            Private room\n",
      "number_of_reviews       24.112962\n",
      "Name: 1, dtype: object\n"
     ]
    }
   ],
   "source": [
    "import pandas as pd\n",
    "\n",
    "# Ensure the file path is correct; adjust if needed\n",
    "file_path = 'AB_NYC_2019 - AB_NYC_2019 (1).csv'\n",
    "\n",
    "# Read the CSV file into a DataFrame\n",
    "air_bnb = pd.read_csv(file_path)\n",
    "\n",
    "# Group by room_type and calculate the mean number_of_reviews\n",
    "room_type_reviews = air_bnb.groupby('room_type')['number_of_reviews'].mean().reset_index()\n",
    "\n",
    "# Find the room type(s) with the highest average number of reviews\n",
    "max_avg_reviews = room_type_reviews.loc[room_type_reviews['number_of_reviews'].idxmax()]\n",
    "\n",
    "print(f\"The room type(s) with the highest average number of reviews is/are:\")\n",
    "print(max_avg_reviews[['room_type', 'number_of_reviews']])\n"
   ]
  },
  {
   "cell_type": "markdown",
   "metadata": {},
   "source": [
    "# Final Conclusion\n",
    "\n",
    "In this cell, write your final conclusion for each of the questions asked.\n",
    "\n",
    "Also, if you uncovered some more details that were not asked above, please discribe them here.\n",
    "\n",
    "-- Add your conclusion --"
   ]
  },
  {
   "cell_type": "code",
   "execution_count": 16,
   "metadata": {},
   "outputs": [
    {
     "name": "stdout",
     "output_type": "stream",
     "text": [
      "host_id             219517861\n",
      "host_name        Sonder (NYC)\n",
      "listing_count             327\n",
      "Name: 34629, dtype: object\n"
     ]
    }
   ],
   "source": [
    "When looking at the data we see \n",
    "Manhattan emerges consistently with the \n",
    "highest average and total prices,Which makes since due to tourist cost .\n",
    "Hosts with the highest total earnings \n",
    "and most listings highlight significant \n",
    "players in the market, while those with \n",
    "zero availability and high review counts \n",
    "underscore varying dynamics of host activity.\n",
    "Danielle from Queens' review status and the \n",
    "prevalence of complete open availability \n",
    "listings provide nuanced perspectives on host \n",
    "engagement and listing availability. "
   ]
  }
 ],
 "metadata": {
  "kernelspec": {
   "display_name": "Python 3 (ipykernel)",
   "language": "python",
   "name": "python3"
  },
  "language_info": {
   "codemirror_mode": {
    "name": "ipython",
    "version": 3
   },
   "file_extension": ".py",
   "mimetype": "text/x-python",
   "name": "python",
   "nbconvert_exporter": "python",
   "pygments_lexer": "ipython3",
   "version": "3.10.6"
  }
 },
 "nbformat": 4,
 "nbformat_minor": 2
}
